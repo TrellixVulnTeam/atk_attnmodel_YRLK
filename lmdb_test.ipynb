{
 "cells": [
  {
   "cell_type": "code",
   "execution_count": null,
   "metadata": {},
   "outputs": [],
   "source": [
    "import lmdb\n",
    "import os, sys\n",
    "\n",
    "def initialize():\n",
    "    env = lmdb.open(\"lmdb_dir\")\n",
    "    return env\n",
    "\n",
    "def insert(env, sid, name):\n",
    "    txn = env.begin(write=True)\n",
    "    txn.put(str(sid).encode(), name.encode())\n",
    "    txn.commit()\n",
    "\n",
    "def delete(env, sid):\n",
    "    txn = env.begin(write=True)\n",
    "    txn.delete(str(sid).encode())\n",
    "    txn.commit()\n",
    "\n",
    "def update(env, sid, name):\n",
    "    txn = env.begin(write=True)\n",
    "    txn.put(str(sid).encode(), name.encode())\n",
    "    txn.commit()\n",
    "\n",
    "def search(env, sid):\n",
    "    txn = env.begin()\n",
    "    name = txn.get(str(sid).encode())\n",
    "    return name\n",
    "\n",
    "def display(env):\n",
    "    txn = env.begin()\n",
    "    cur = txn.cursor()\n",
    "    for key, value in cur:\n",
    "        print(key, value)\n",
    "\n",
    "\n",
    "env = initialize()\n",
    "\n",
    "print(\"Insert 3 records.\")\n",
    "for i in range(1000000):\n",
    "    insert(env, i, f\"Alicei\")\n",
    "\n",
    "display(env)\n",
    "\n",
    "print(\"Delete the record where sid = 1.\")\n",
    "delete(env, 1)\n",
    "display(env)\n",
    "\n",
    "print(\"Update the record where sid = 3.\")\n",
    "update(env, 3, \"Mark\")\n",
    "display(env)\n",
    "\n",
    "print(\"Get the name of student whose sid = 3.\")\n",
    "name = search(env, 3)\n",
    "print(name)\n",
    "\n",
    "# 最后需要关闭关闭lmdb数据库\n",
    "env.close()\n",
    "\n",
    "# 执行系统命令\n",
    "#os.system(\"rm -r lmdb_dir\")"
   ]
  },
  {
   "cell_type": "code",
   "execution_count": 24,
   "metadata": {},
   "outputs": [
    {
     "data": {
      "text/plain": [
       "{'psize': 4096,\n",
       " 'depth': 3,\n",
       " 'branch_pages': 5,\n",
       " 'leaf_pages': 689,\n",
       " 'overflow_pages': 6900218,\n",
       " 'entries': 81435}"
      ]
     },
     "execution_count": 24,
     "metadata": {},
     "output_type": "execute_result"
    }
   ],
   "source": [
    "import lmdb\n",
    "env = lmdb.open(\"/esat/jade/tmp/zwang/dataset/COCO2014/feats/coco_test_resnet101_faster_rcnn_genome.lmdb\", \n",
    "                max_readers=1, \n",
    "                readonly=True, lock=False, \n",
    "                readahead=False, meminit=False)\n",
    "env.stat()"
   ]
  },
  {
   "cell_type": "code",
   "execution_count": 21,
   "metadata": {},
   "outputs": [],
   "source": [
    "env.close()"
   ]
  },
  {
   "cell_type": "code",
   "execution_count": 22,
   "metadata": {},
   "outputs": [],
   "source": [
    "def display(env):\n",
    "    txn = env.begin()\n",
    "    cur = txn.cursor()\n",
    "    cnt = 0\n",
    "    for key, value in cur:\n",
    "        print(key, value)\n",
    "        cnt+=1\n",
    "        if cnt>2:\n",
    "            break"
   ]
  },
  {
   "cell_type": "code",
   "execution_count": 23,
   "metadata": {},
   "outputs": [
    {
     "ename": "Error",
     "evalue": "Attempt to operate on closed/deleted/dropped object.",
     "output_type": "error",
     "traceback": [
      "\u001b[0;31m---------------------------------------------------------------------------\u001b[0m",
      "\u001b[0;31mError\u001b[0m                                     Traceback (most recent call last)",
      "\u001b[0;32m<ipython-input-23-75c4ab4d7a19>\u001b[0m in \u001b[0;36m<module>\u001b[0;34m\u001b[0m\n\u001b[0;32m----> 1\u001b[0;31m \u001b[0mdisplay\u001b[0m\u001b[0;34m(\u001b[0m\u001b[0menv\u001b[0m\u001b[0;34m)\u001b[0m\u001b[0;34m\u001b[0m\u001b[0;34m\u001b[0m\u001b[0m\n\u001b[0m",
      "\u001b[0;32m<ipython-input-22-aaffff26a15b>\u001b[0m in \u001b[0;36mdisplay\u001b[0;34m(env)\u001b[0m\n\u001b[1;32m      1\u001b[0m \u001b[0;32mdef\u001b[0m \u001b[0mdisplay\u001b[0m\u001b[0;34m(\u001b[0m\u001b[0menv\u001b[0m\u001b[0;34m)\u001b[0m\u001b[0;34m:\u001b[0m\u001b[0;34m\u001b[0m\u001b[0;34m\u001b[0m\u001b[0m\n\u001b[0;32m----> 2\u001b[0;31m     \u001b[0mtxn\u001b[0m \u001b[0;34m=\u001b[0m \u001b[0menv\u001b[0m\u001b[0;34m.\u001b[0m\u001b[0mbegin\u001b[0m\u001b[0;34m(\u001b[0m\u001b[0;34m)\u001b[0m\u001b[0;34m\u001b[0m\u001b[0;34m\u001b[0m\u001b[0m\n\u001b[0m\u001b[1;32m      3\u001b[0m     \u001b[0mcur\u001b[0m \u001b[0;34m=\u001b[0m \u001b[0mtxn\u001b[0m\u001b[0;34m.\u001b[0m\u001b[0mcursor\u001b[0m\u001b[0;34m(\u001b[0m\u001b[0;34m)\u001b[0m\u001b[0;34m\u001b[0m\u001b[0;34m\u001b[0m\u001b[0m\n\u001b[1;32m      4\u001b[0m     \u001b[0mcnt\u001b[0m \u001b[0;34m=\u001b[0m \u001b[0;36m0\u001b[0m\u001b[0;34m\u001b[0m\u001b[0;34m\u001b[0m\u001b[0m\n\u001b[1;32m      5\u001b[0m     \u001b[0;32mfor\u001b[0m \u001b[0mkey\u001b[0m\u001b[0;34m,\u001b[0m \u001b[0mvalue\u001b[0m \u001b[0;32min\u001b[0m \u001b[0mcur\u001b[0m\u001b[0;34m:\u001b[0m\u001b[0;34m\u001b[0m\u001b[0;34m\u001b[0m\u001b[0m\n",
      "\u001b[0;31mError\u001b[0m: Attempt to operate on closed/deleted/dropped object."
     ]
    }
   ],
   "source": [
    "display(env)"
   ]
  },
  {
   "cell_type": "code",
   "execution_count": null,
   "metadata": {},
   "outputs": [],
   "source": []
  }
 ],
 "metadata": {
  "kernelspec": {
   "display_name": "Python (base)",
   "language": "python",
   "name": "base"
  },
  "language_info": {
   "codemirror_mode": {
    "name": "ipython",
    "version": 3
   },
   "file_extension": ".py",
   "mimetype": "text/x-python",
   "name": "python",
   "nbconvert_exporter": "python",
   "pygments_lexer": "ipython3",
   "version": "3.7.6"
  }
 },
 "nbformat": 4,
 "nbformat_minor": 4
}
